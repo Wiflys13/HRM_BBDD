{
 "cells": [
  {
   "cell_type": "markdown",
   "metadata": {},
   "source": [
    "# Preprocesamiento datos MongoDB"
   ]
  },
  {
   "cell_type": "markdown",
   "metadata": {},
   "source": [
    "Se va a realizar el preprocesamiento de los datos necesarios para la creación de la base de datos de HARMONI_CAB en MONGODB.\n",
    "\n",
    "Las fuentes de datos a integrar en la base de datos son:\n",
    "* PBS.csv\n",
    "* BoM.csv\n",
    "* Electric.csv\n"
   ]
  },
  {
   "cell_type": "markdown",
   "metadata": {},
   "source": [
    "## Imports"
   ]
  },
  {
   "cell_type": "markdown",
   "metadata": {},
   "source": [
    "Lo primero que vamos a realizar es la importación de las librerias necesarias para el realizar el tratamiento de los datos y la importación de los datos."
   ]
  },
  {
   "cell_type": "code",
   "execution_count": 1,
   "metadata": {},
   "outputs": [],
   "source": [
    "import pandas as pd\n",
    "import numpy as np\n",
    "import os\n",
    "import sys"
   ]
  },
  {
   "cell_type": "code",
   "execution_count": 3,
   "metadata": {},
   "outputs": [],
   "source": [
    "# Directorio raíz del proyecto\n",
    "project_root = 'C:/Users/HARMONI/Documents/HARMONI/HRM_BBDD'\n",
    "sys.path.append(project_root)\n",
    "from config.config import DB_CONFIG, DATA_FILE_PATH\n",
    "\n",
    "\n",
    "# Ruta al archivo CSV\n",
    "bom_file = os.path.join(DATA_FILE_PATH, 'EjemploBOM_completo.csv')\n",
    "pbs_file = os.path.join(DATA_FILE_PATH, 'PBS.csv')\n",
    "electric_file = os.path.join(DATA_FILE_PATH, 'Electric.csv')\n",
    "\n",
    "# Leer el archivo CSV\n",
    "bom_csv = pd.read_csv(bom_file, sep=';', encoding='latin1')\n",
    "pbs_csv = pd.read_csv(pbs_file, sep=';', encoding='latin1')\n",
    "electric_file_csv = pd.read_csv(electric_file, sep=';', encoding='latin1')\n"
   ]
  },
  {
   "cell_type": "code",
   "execution_count": null,
   "metadata": {},
   "outputs": [],
   "source": [
    "bom_csv.head()"
   ]
  }
 ],
 "metadata": {
  "kernelspec": {
   "display_name": ".venv",
   "language": "python",
   "name": "python3"
  },
  "language_info": {
   "codemirror_mode": {
    "name": "ipython",
    "version": 3
   },
   "file_extension": ".py",
   "mimetype": "text/x-python",
   "name": "python",
   "nbconvert_exporter": "python",
   "pygments_lexer": "ipython3",
   "version": "3.12.4"
  }
 },
 "nbformat": 4,
 "nbformat_minor": 2
}
