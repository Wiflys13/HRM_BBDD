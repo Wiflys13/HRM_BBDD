{
 "cells": [
  {
   "cell_type": "markdown",
   "metadata": {},
   "source": [
    "# Preprocesamiento datos MongoDB"
   ]
  },
  {
   "cell_type": "markdown",
   "metadata": {},
   "source": [
    "Se va a realizar el preprocesamiento de los datos necesarios para la creación de la base de datos de HARMONI_CAB en MONGODB.\n",
    "\n",
    "Las fuentes de datos a integrar en la base de datos son:\n",
    "* PBS.csv\n",
    "* BoM.csv\n",
    "* Electric.csv\n",
    "\n",
    "Los pasos a seguir para realizar un preprocesamiento correcto a cada una de las fuentes de datos son: \n",
    "* Limpieza de valores faltantes\n",
    "* Unificar valores\n"
   ]
  },
  {
   "cell_type": "markdown",
   "metadata": {},
   "source": [
    "## Imports"
   ]
  },
  {
   "cell_type": "markdown",
   "metadata": {},
   "source": [
    "Lo primero que vamos a realizar es la importación de las librerias necesarias para el realizar el tratamiento de los datos y la importación de los datos."
   ]
  },
  {
   "cell_type": "code",
   "execution_count": 2,
   "metadata": {},
   "outputs": [],
   "source": [
    "import pandas as pd\n",
    "import numpy as np\n",
    "import os\n",
    "import sys"
   ]
  },
  {
   "cell_type": "code",
   "execution_count": 3,
   "metadata": {},
   "outputs": [],
   "source": [
    "# Directorio raíz del proyecto\n",
    "project_root = 'C:/Users/HARMONI/Documents/HARMONI/HRM_BBDD'\n",
    "sys.path.append(project_root)\n",
    "from config.config import DB_CONFIG, DATA_FILE_PATH\n",
    "\n",
    "\n",
    "# Ruta al archivo CSV\n",
    "bom_file = os.path.join(DATA_FILE_PATH, 'EjemploBOM_completo.csv')\n",
    "pbs_file = os.path.join(DATA_FILE_PATH, 'PBS.csv')\n",
    "electric_file = os.path.join(DATA_FILE_PATH, 'Electric.csv')\n",
    "\n",
    "# Leer el archivo CSV\n",
    "bom_csv = pd.read_csv(bom_file, sep=';', encoding='latin1')\n",
    "pbs_csv = pd.read_csv(pbs_file, sep=';', encoding='latin1')\n",
    "electric_file_csv = pd.read_csv(electric_file, sep=';', encoding='latin1')\n"
   ]
  },
  {
   "cell_type": "markdown",
   "metadata": {},
   "source": [
    "## PBS"
   ]
  },
  {
   "cell_type": "code",
   "execution_count": null,
   "metadata": {},
   "outputs": [],
   "source": [
    "pbs_csv.head()"
   ]
  },
  {
   "cell_type": "markdown",
   "metadata": {},
   "source": [
    "### Formato de dato"
   ]
  },
  {
   "cell_type": "markdown",
   "metadata": {},
   "source": [
    "Columnas a minuscula"
   ]
  },
  {
   "cell_type": "code",
   "execution_count": 18,
   "metadata": {},
   "outputs": [],
   "source": [
    "pbs_csv.columns = pbs_csv.columns.str.lower()"
   ]
  },
  {
   "cell_type": "markdown",
   "metadata": {},
   "source": [
    "Unificamos la tipologia:\n",
    "* CI_identification: XXXXXX-XXXX (se eliminan los espacios)"
   ]
  },
  {
   "cell_type": "code",
   "execution_count": 19,
   "metadata": {},
   "outputs": [],
   "source": [
    "# Eliminar espacios en la columna 'CI_identification'\n",
    "pbs_csv['ci_identification'] = pbs_csv['ci_identification'].str.replace(' - ', '-', regex=False)"
   ]
  },
  {
   "cell_type": "markdown",
   "metadata": {},
   "source": [
    "Asignamos la tipologia correcta a cada una de las columnas"
   ]
  },
  {
   "cell_type": "code",
   "execution_count": 20,
   "metadata": {},
   "outputs": [
    {
     "name": "stdout",
     "output_type": "stream",
     "text": [
      "ci_identification    object\n",
      "item_name            object\n",
      "acronym              object\n",
      "level                 int64\n",
      "system                int64\n",
      "subsystem             int64\n",
      "module                int64\n",
      "unit                  int64\n",
      "assemblie             int64\n",
      "subassemblie          int64\n",
      "component             int64\n",
      "developed_by         object\n",
      "dtype: object\n"
     ]
    }
   ],
   "source": [
    "print(pbs_csv.dtypes)"
   ]
  },
  {
   "cell_type": "code",
   "execution_count": 21,
   "metadata": {},
   "outputs": [
    {
     "name": "stdout",
     "output_type": "stream",
     "text": [
      "ci_identification    object\n",
      "item_name            object\n",
      "acronym              object\n",
      "level                 int64\n",
      "system                int64\n",
      "subsystem             int64\n",
      "module                int64\n",
      "unit                  int64\n",
      "assemblie             int64\n",
      "subassemblie          int64\n",
      "component             int64\n",
      "developed_by         object\n",
      "dtype: object\n"
     ]
    }
   ],
   "source": [
    "# Convertir las columnas a tipo texto\n",
    "pbs_csv['ci_identification'] = pbs_csv['ci_identification'].astype(str)\n",
    "pbs_csv['item_name'] = pbs_csv['item_name'].astype(str)\n",
    "pbs_csv['acronym'] = pbs_csv['acronym'].astype(str)\n",
    "pbs_csv['developed_by'] = pbs_csv['developed_by'].astype(str)\n",
    "print(pbs_csv.dtypes)"
   ]
  },
  {
   "cell_type": "markdown",
   "metadata": {},
   "source": [
    "### Valores nulos"
   ]
  },
  {
   "cell_type": "code",
   "execution_count": 22,
   "metadata": {},
   "outputs": [
    {
     "name": "stdout",
     "output_type": "stream",
     "text": [
      "ci_identification    0\n",
      "item_name            0\n",
      "acronym              0\n",
      "level                0\n",
      "system               0\n",
      "subsystem            0\n",
      "module               0\n",
      "unit                 0\n",
      "assemblie            0\n",
      "subassemblie         0\n",
      "component            0\n",
      "developed_by         0\n",
      "dtype: int64\n"
     ]
    }
   ],
   "source": [
    "print(pbs_csv.isna().sum())"
   ]
  },
  {
   "cell_type": "markdown",
   "metadata": {},
   "source": [
    "Podemos observar que hay 4 valores con Acronimos faltantes. Estos son Items que han sido reservados en blanco para futuros componentes. Por lo tanto, por ahora se eliminan de la base de datos: \n",
    "* 311000 - 0000\n",
    "* 312000 - 0000\n",
    "* 313000 - 0000\n",
    "* 314000 - 0000"
   ]
  },
  {
   "cell_type": "code",
   "execution_count": 23,
   "metadata": {},
   "outputs": [
    {
     "data": {
      "text/html": [
       "<div>\n",
       "<style scoped>\n",
       "    .dataframe tbody tr th:only-of-type {\n",
       "        vertical-align: middle;\n",
       "    }\n",
       "\n",
       "    .dataframe tbody tr th {\n",
       "        vertical-align: top;\n",
       "    }\n",
       "\n",
       "    .dataframe thead th {\n",
       "        text-align: right;\n",
       "    }\n",
       "</style>\n",
       "<table border=\"1\" class=\"dataframe\">\n",
       "  <thead>\n",
       "    <tr style=\"text-align: right;\">\n",
       "      <th></th>\n",
       "      <th>ci_identification</th>\n",
       "      <th>item_name</th>\n",
       "      <th>acronym</th>\n",
       "      <th>level</th>\n",
       "      <th>system</th>\n",
       "      <th>subsystem</th>\n",
       "      <th>module</th>\n",
       "      <th>unit</th>\n",
       "      <th>assemblie</th>\n",
       "      <th>subassemblie</th>\n",
       "      <th>component</th>\n",
       "      <th>developed_by</th>\n",
       "    </tr>\n",
       "  </thead>\n",
       "  <tbody>\n",
       "    <tr>\n",
       "      <th>0</th>\n",
       "      <td>300000-0000</td>\n",
       "      <td>Calibration and Relay System</td>\n",
       "      <td>CARS</td>\n",
       "      <td>1</td>\n",
       "      <td>3</td>\n",
       "      <td>0</td>\n",
       "      <td>0</td>\n",
       "      <td>0</td>\n",
       "      <td>0</td>\n",
       "      <td>0</td>\n",
       "      <td>0</td>\n",
       "      <td>CAB</td>\n",
       "    </tr>\n",
       "    <tr>\n",
       "      <th>1</th>\n",
       "      <td>310000-0000</td>\n",
       "      <td>Calibration Module</td>\n",
       "      <td>CM</td>\n",
       "      <td>2</td>\n",
       "      <td>3</td>\n",
       "      <td>1</td>\n",
       "      <td>0</td>\n",
       "      <td>0</td>\n",
       "      <td>0</td>\n",
       "      <td>0</td>\n",
       "      <td>0</td>\n",
       "      <td>CAB</td>\n",
       "    </tr>\n",
       "    <tr>\n",
       "      <th>6</th>\n",
       "      <td>315000-0000</td>\n",
       "      <td>IFS Calibration Unit</td>\n",
       "      <td>ICU</td>\n",
       "      <td>3</td>\n",
       "      <td>3</td>\n",
       "      <td>1</td>\n",
       "      <td>5</td>\n",
       "      <td>0</td>\n",
       "      <td>0</td>\n",
       "      <td>0</td>\n",
       "      <td>0</td>\n",
       "      <td>CAB</td>\n",
       "    </tr>\n",
       "    <tr>\n",
       "      <th>7</th>\n",
       "      <td>315100-0000</td>\n",
       "      <td>ICU Uniform Source Assembly</td>\n",
       "      <td>IUSA</td>\n",
       "      <td>4</td>\n",
       "      <td>3</td>\n",
       "      <td>1</td>\n",
       "      <td>5</td>\n",
       "      <td>1</td>\n",
       "      <td>0</td>\n",
       "      <td>0</td>\n",
       "      <td>0</td>\n",
       "      <td>CAB</td>\n",
       "    </tr>\n",
       "    <tr>\n",
       "      <th>8</th>\n",
       "      <td>315110-0000</td>\n",
       "      <td>ICU Integrating Sphere</td>\n",
       "      <td>CM IIS</td>\n",
       "      <td>5</td>\n",
       "      <td>3</td>\n",
       "      <td>1</td>\n",
       "      <td>5</td>\n",
       "      <td>1</td>\n",
       "      <td>1</td>\n",
       "      <td>0</td>\n",
       "      <td>0</td>\n",
       "      <td>CAB</td>\n",
       "    </tr>\n",
       "  </tbody>\n",
       "</table>\n",
       "</div>"
      ],
      "text/plain": [
       "  ci_identification                     item_name acronym  level  system  \\\n",
       "0       300000-0000  Calibration and Relay System    CARS      1       3   \n",
       "1       310000-0000            Calibration Module      CM      2       3   \n",
       "6       315000-0000          IFS Calibration Unit     ICU      3       3   \n",
       "7       315100-0000   ICU Uniform Source Assembly    IUSA      4       3   \n",
       "8       315110-0000        ICU Integrating Sphere  CM IIS      5       3   \n",
       "\n",
       "   subsystem  module  unit  assemblie  subassemblie  component developed_by  \n",
       "0          0       0     0          0             0          0          CAB  \n",
       "1          1       0     0          0             0          0          CAB  \n",
       "6          1       5     0          0             0          0          CAB  \n",
       "7          1       5     1          0             0          0          CAB  \n",
       "8          1       5     1          1             0          0          CAB  "
      ]
     },
     "execution_count": 23,
     "metadata": {},
     "output_type": "execute_result"
    }
   ],
   "source": [
    "pbs_csv = pbs_csv.dropna()\n",
    "pbs_csv.head()"
   ]
  }
 ],
 "metadata": {
  "kernelspec": {
   "display_name": ".venv",
   "language": "python",
   "name": "python3"
  },
  "language_info": {
   "codemirror_mode": {
    "name": "ipython",
    "version": 3
   },
   "file_extension": ".py",
   "mimetype": "text/x-python",
   "name": "python",
   "nbconvert_exporter": "python",
   "pygments_lexer": "ipython3",
   "version": "3.12.4"
  }
 },
 "nbformat": 4,
 "nbformat_minor": 2
}
